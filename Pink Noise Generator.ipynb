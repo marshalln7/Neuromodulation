{
 "cells": [
  {
   "cell_type": "code",
   "execution_count": 2,
   "id": "f50a135b",
   "metadata": {},
   "outputs": [
    {
     "data": {
      "text/plain": [
       "<_io.BufferedRandom name='pink_noise.mp3'>"
      ]
     },
     "execution_count": 2,
     "metadata": {},
     "output_type": "execute_result"
    }
   ],
   "source": [
    "import numpy as np\n",
    "import colorednoise as cn\n",
    "import sounddevice as sd\n",
    "from pydub import AudioSegment\n",
    "\n",
    "# Parameters\n",
    "duration = 108  # duration of pink noise to generate in seconds\n",
    "sample_rate = 44100\n",
    "beta = 1  # 1 = pink noise\n",
    "n_samples = duration * sample_rate\n",
    "\n",
    "# Generate pink noise\n",
    "pink_noise = cn.powerlaw_psd_gaussian(beta, n_samples)\n",
    "\n",
    "# Normalize and convert to int16\n",
    "pink_int16 = (pink_noise / np.max(np.abs(pink_noise)) * 32767).astype(np.int16)\n",
    "\n",
    "# Play it for a few seconds\n",
    "index_to_play = int(sample_rate * 3)  # Play for 3 seconds\n",
    "sd.play(pink_int16[:index_to_play], sample_rate)\n",
    "sd.wait()\n",
    "\n",
    "# Export as MP3\n",
    "audio = AudioSegment(\n",
    "    pink_int16.tobytes(),\n",
    "    frame_rate=sample_rate,\n",
    "    sample_width=2,  # int16 = 2 bytes\n",
    "    channels=1\n",
    ")\n",
    "audio.export(\"pink_noise.mp3\", format=\"mp3\")\n"
   ]
  }
 ],
 "metadata": {
  "kernelspec": {
   "display_name": "neuromodulation",
   "language": "python",
   "name": "python3"
  },
  "language_info": {
   "codemirror_mode": {
    "name": "ipython",
    "version": 3
   },
   "file_extension": ".py",
   "mimetype": "text/x-python",
   "name": "python",
   "nbconvert_exporter": "python",
   "pygments_lexer": "ipython3",
   "version": "3.12.9"
  }
 },
 "nbformat": 4,
 "nbformat_minor": 5
}
